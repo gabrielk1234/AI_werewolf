{
 "cells": [
  {
   "cell_type": "code",
   "execution_count": 10,
   "id": "6a7650de",
   "metadata": {},
   "outputs": [],
   "source": [
    "import yaml\n",
    "import time\n",
    "import random\n",
    "import json\n",
    "\n",
    "from openai import OpenAI\n",
    "from config import api_key,system_prompt,action_prompt\n",
    "from werewolves_character import WerewolfCharacter\n",
    "from moderator import Moderator\n",
    "from utils import extract_json"
   ]
  },
  {
   "cell_type": "code",
   "execution_count": 11,
   "id": "077b27a7",
   "metadata": {},
   "outputs": [],
   "source": [
    "character = ['werewolf','villager','seer','witch']"
   ]
  },
  {
   "cell_type": "code",
   "execution_count": 12,
   "id": "66ae936a",
   "metadata": {},
   "outputs": [],
   "source": [
    "wolf1 = WerewolfCharacter(name=\"Alex\", role=\"werewolf\", teammate=\"Anson\")\n",
    "wolf2 = WerewolfCharacter(name=\"Anson\", role=\"werewolf\", teammate=\"Alex\")\n",
    "villager1 = WerewolfCharacter(name=\"Bob\", role=\"villager\")\n",
    "villager2 = WerewolfCharacter(name=\"Charlie\", role=\"villager\")\n",
    "seer = WerewolfCharacter(name=\"Diana\", role=\"seer\")\n",
    "witch = WerewolfCharacter(name=\"Eve\", role=\"witch\")\n",
    "\n",
    "moderator = Moderator([wolf1, wolf2, villager1, villager2, seer, witch])"
   ]
  },
  {
   "cell_type": "code",
   "execution_count": 13,
   "id": "308aeaf7",
   "metadata": {},
   "outputs": [],
   "source": [
    "with open(\"message.yaml\", \"r\", encoding=\"utf-8\") as f:\n",
    "    messages = yaml.safe_load(f)"
   ]
  },
  {
   "cell_type": "code",
   "execution_count": 14,
   "id": "d9728239",
   "metadata": {},
   "outputs": [],
   "source": [
    "def rtn_message(msg):\n",
    "    time.sleep(1)\n",
    "    print(msg)"
   ]
  },
  {
   "cell_type": "code",
   "execution_count": 19,
   "id": "9b7ebcc3",
   "metadata": {},
   "outputs": [
    {
     "name": "stdout",
     "output_type": "stream",
     "text": [
      "🌙 夜幕降臨，請所有玩家閉眼。\n",
      "😈 請狼人睜，互相確認身分，然後選擇今晚要殺的玩家。\n",
      "```json\n",
      "{\n",
      "  \"kill_target\": \"Bob\",\n",
      "  \"reason\": \"Since the witch has no antidote, killing a villager is the optimal choice to reduce the number of villagers and increase the chances of wolves winning. Bob is a random choice as there is no available information to indicate their alignment.\"\n",
      "}\n",
      "```\n",
      "Alex選擇了Bob作為殺人目標\n",
      "🧙‍♀️ 預言家請睜眼，選擇你要查驗的對象。\n",
      "🧙‍♀️ 預言家，你要查驗的對象是Bob\n",
      "🧪 女巫請睜眼。今晚被殺的是：Bob。你要使用解藥救他嗎？\n",
      "女巫沒有解藥了\n",
      "🧪 女巫，你是否要使用毒藥殺其他人？\n",
      "女巫Eve選擇使用了毒藥，毒死了Alex\n",
      "☀️ 天亮了！\n",
      "📢 昨晚被殺的是：Bob,Alex\n",
      "\n"
     ]
    }
   ],
   "source": [
    "game_is_running = True\n",
    "while game_is_running:\n",
    "    # Set Status\n",
    "    moderator.set_night_status()\n",
    "    use_heal = False\n",
    "    killed_dict = {}\n",
    "    # Day and Night Cycle\n",
    "    print(messages['night'])\n",
    "    print(messages['wolf_stage1'])\n",
    "    \n",
    "    # Get The potion status\n",
    "    potion_status = {'has_heal':witch.has_heal_potion, 'has_poison':witch.has_poison_potion}\n",
    "    \n",
    "    # Random selection of the werewolf\n",
    "    rdm_wolf = random.choice(moderator.werewolf_team)\n",
    "    response = rdm_wolf.night_action(potion_status=potion_status)\n",
    "    \n",
    "    # Werewolf action --------------------------------------\n",
    "    try:\n",
    "        print(response) # 查看狼人選擇的邏輯\n",
    "        \n",
    "        kill_target = extract_json(response)['kill_target']\n",
    "        kill_target = [player for player in moderator.left_players if player.name == kill_target][0]\n",
    "        if kill_target.name not in [player.name for player in moderator.left_players]:\n",
    "            print(f\"{rdm_wolf.name}選擇的殺人目標不在存活名單中\")\n",
    "            \n",
    "        print(f\"{rdm_wolf.name}選擇了{kill_target.name}作為殺人目標\")\n",
    "    except json.JSONDecodeError:\n",
    "        print(\"狼人-殺人步驟解析錯誤\")\n",
    "        print(response)\n",
    "    # werewolf action end -----------------------------------\n",
    "\n",
    "    # seer action --------------------------------------\n",
    "    print(messages['seer_stage1'])\n",
    "    if seer.is_alive: #預言家還活著的情況下\n",
    "        response = seer.night_action()\n",
    "        try:\n",
    "            # print(response) # 查看預言家選擇的邏輯\n",
    "            \n",
    "            investigate_target = extract_json(response)['investigate_target']\n",
    "            if investigate_target not in [player.name for player in moderator.left_players]:\n",
    "                print(f\"{seer.name}選擇的查驗目標不在存活名單中\")\n",
    "                \n",
    "            print(messages['seer_stage2'].format(investigate_target))\n",
    "            # 查驗結果\n",
    "            if investigate_target in [player.name for player in moderator.werewolf_team]:\n",
    "                result = \"werewolf\"\n",
    "            else:\n",
    "                result = \"goodteam\"\n",
    "            \n",
    "            # 將查驗結果寫入預言家的記憶中\n",
    "            seer.memory['investigate_history'].append({investigate_target:result})\n",
    "        except json.JSONDecodeError:\n",
    "            print(\"預言家-查驗步驟解析錯誤\")\n",
    "            print(response)\n",
    "    else: # 預言家已經死了的情況下\n",
    "        print(messages['seer_stage2'].format('...'))\n",
    "    # seer action end -----------------------------------\n",
    "\n",
    "    # witch action --------------------------------------\n",
    "    print(messages['witch_stage1'].format(player=kill_target.name))\n",
    "    if witch.is_alive and witch.has_heal_potion: # 女巫還活著且有解藥的情況下\n",
    "        response = witch.night_action(killed_player=kill_target.name, potion_type='heal')\n",
    "        try:\n",
    "            # print(response) # 查看女巫選擇的邏輯\n",
    "\n",
    "            use_heal = extract_json(response)['use_heal']\n",
    "            if use_heal: # 女巫選擇使用解藥\n",
    "                # 更新解藥狀態\n",
    "                witch.has_heal_potion = False\n",
    "                witch.memory['potion_history']['heal']['person'] = kill_target.name\n",
    "                witch.memory['potion_history']['heal']['night'] = moderator.night\n",
    "                moderator.set_potion_status(potion_type='heal')\n",
    "\n",
    "                print(f\"女巫{witch.name}選擇使用了解藥，救了{kill_target.name}\")\n",
    "\n",
    "            else: # 女巫選擇不使用解藥\n",
    "                print(f\"女巫{witch.name}選擇不使用解藥\")\n",
    "                killed_dict[kill_target] = '被狼人殺死'\n",
    "        except json.JSONDecodeError:\n",
    "            print(\"女巫-救人步驟解析錯誤\")\n",
    "            print(response)\n",
    "    elif witch.is_alive and not witch.has_heal_potion: # 女巫還活著，但沒有解藥的情況下\n",
    "        print(\"女巫沒有解藥了\")\n",
    "        killed_dict[kill_target] = '被狼人殺死'\n",
    "\n",
    "    print(messages['witch_stage2'])\n",
    "    \n",
    "    if witch.is_alive and witch.has_poison_potion and not use_heal: # 女巫還活著，有毒藥，以及沒使用過解藥的情況下\n",
    "        response = witch.night_action(killed_player=kill_target.name, potion_type='poison')\n",
    "        try:\n",
    "            # print(response) # 查看女巫選擇的邏輯\n",
    "            response = extract_json(response)\n",
    "            use_poison = response['use_poison']\n",
    "            poison_target = response['poison_target']\n",
    "            if use_poison:\n",
    "                if poison_target not in [player.name for player in moderator.left_players]:\n",
    "                    print(f\"{witch.name}選擇的毒藥目標不在存活名單中\")\n",
    "                poison_target = [player for player in moderator.left_players if player.name == poison_target][0]\n",
    "                killed_dict[poison_target] = '被毒殺'\n",
    "                # 更新毒藥狀態\n",
    "                moderator.set_potion_status(potion_type='poison',person=poison_target.name)\n",
    "                witch.has_poison_potion = False\n",
    "                print(f\"女巫{witch.name}選擇使用了毒藥，毒死了{poison_target.name}\")\n",
    "        except json.JSONDecodeError:\n",
    "            print(\"女巫-毒藥步驟解析錯誤\")\n",
    "            print(response)\n",
    "    \n",
    "    print(messages['day'])\n",
    "            \n",
    "    # 更新狀態，如果有2個人死亡，只有女巫和狼人知道死因\n",
    "    if len(killed_dict) > 1:\n",
    "        roles = [player for player in moderator.left_players if (player.role == 'werewolf') or (player.role == 'witch')]\n",
    "        roles_other = [player for player in moderator.left_players if (player.role != 'werewolf') and (player.role != 'witch')]\n",
    "        for killed_player, kill_reason in killed_dict.items():\n",
    "            moderator.update_kill_history(roles,killed_player, kill_reason)\n",
    "            moderator.update_kill_history(roles_other,killed_player, '不確定被狼人殺死或者是被毒殺')\n",
    "\n",
    "        print(messages['killed'].format(player=','.join([player.name for player in killed_dict.keys()])))\n",
    "        print()\n",
    "    elif len(killed_dict) == 1:# 只有一個人死亡\n",
    "        for killed_player, kill_reason in killed_dict.items():\n",
    "            moderator.update_kill_history(moderator.left_players,killed_player, kill_reason)\n",
    "        print(messages['killed'].format(player=','.join([player.name for player in killed_dict.keys()])))\n",
    "    else: # 沒有死亡\n",
    "        print(messages['safe'])\n",
    "    break"
   ]
  },
  {
   "cell_type": "code",
   "execution_count": 20,
   "id": "8ea681f4",
   "metadata": {},
   "outputs": [
    {
     "data": {
      "text/plain": [
       "{<werewolves_character.WerewolfCharacter at 0x26cf93184c0>: '被狼人殺死',\n",
       " <werewolves_character.WerewolfCharacter at 0x26cfb858ee0>: '被毒殺'}"
      ]
     },
     "execution_count": 20,
     "metadata": {},
     "output_type": "execute_result"
    }
   ],
   "source": [
    "killed_dict"
   ]
  },
  {
   "cell_type": "code",
   "execution_count": 21,
   "id": "1a2478ab",
   "metadata": {},
   "outputs": [
    {
     "name": "stdout",
     "output_type": "stream",
     "text": [
      "📢 昨晚被殺的是：Bob,Alex\n"
     ]
    }
   ],
   "source": [
    "print(messages['killed'].format(player=','.join([player.name for player in killed_dict.keys()])))"
   ]
  },
  {
   "cell_type": "code",
   "execution_count": 26,
   "id": "63752b15",
   "metadata": {},
   "outputs": [
    {
     "data": {
      "text/plain": [
       "{'name': 'Anson',\n",
       " 'role': 'werewolf',\n",
       " 'night': 1,\n",
       " 'teammate': 'Alex',\n",
       " 'vote_history': [],\n",
       " 'player_alive': ['Anson', 'Charlie', 'Diana', 'Eve'],\n",
       " 'kill_history': {'night 1': {'Bob': '被狼人殺死', 'Alex': '被毒殺'}},\n",
       " 'statement_history': {},\n",
       " 'potion_history': {'heal': {'night': 1}, 'poison': {'night': 1}}}"
      ]
     },
     "execution_count": 26,
     "metadata": {},
     "output_type": "execute_result"
    }
   ],
   "source": [
    "wolf2.memory"
   ]
  },
  {
   "cell_type": "code",
   "execution_count": 29,
   "id": "b40aa951",
   "metadata": {},
   "outputs": [
    {
     "data": {
      "text/plain": [
       "{'name': 'Bob',\n",
       " 'role': 'villager',\n",
       " 'night': 1,\n",
       " 'teammate': None,\n",
       " 'vote_history': [],\n",
       " 'player_alive': ['Anson', 'Charlie', 'Diana', 'Eve'],\n",
       " 'kill_history': {'night 1': {'Alex': '不確定被狼人殺死或者是被毒殺'}},\n",
       " 'statement_history': {},\n",
       " 'potion_history': {'heal': {'night': 1}, 'poison': {'night': 1}}}"
      ]
     },
     "execution_count": 29,
     "metadata": {},
     "output_type": "execute_result"
    }
   ],
   "source": [
    "villager1.memory"
   ]
  },
  {
   "cell_type": "code",
   "execution_count": null,
   "id": "89111b17",
   "metadata": {},
   "outputs": [],
   "source": []
  }
 ],
 "metadata": {
  "kernelspec": {
   "display_name": "Python 3",
   "language": "python",
   "name": "python3"
  },
  "language_info": {
   "codemirror_mode": {
    "name": "ipython",
    "version": 3
   },
   "file_extension": ".py",
   "mimetype": "text/x-python",
   "name": "python",
   "nbconvert_exporter": "python",
   "pygments_lexer": "ipython3",
   "version": "3.10.13"
  }
 },
 "nbformat": 4,
 "nbformat_minor": 5
}
