{
 "cells": [
  {
   "cell_type": "code",
   "execution_count": 1,
   "id": "6a7650de",
   "metadata": {},
   "outputs": [],
   "source": [
    "import yaml\n",
    "import time\n",
    "import random\n",
    "import json\n",
    "\n",
    "from openai import OpenAI\n",
    "from config import api_key,system_prompt,action_prompt\n",
    "from werewolves_character import WerewolfCharacter\n",
    "from moderator import Moderator\n",
    "from utils import extract_json"
   ]
  },
  {
   "cell_type": "code",
   "execution_count": 2,
   "id": "66ae936a",
   "metadata": {},
   "outputs": [
    {
     "ename": "KeyError",
     "evalue": "'\\n            \"investigate_target\"'",
     "output_type": "error",
     "traceback": [
      "\u001b[1;31m---------------------------------------------------------------------------\u001b[0m",
      "\u001b[1;31mKeyError\u001b[0m                                  Traceback (most recent call last)",
      "Cell \u001b[1;32mIn[2], line 5\u001b[0m\n\u001b[0;32m      3\u001b[0m villager1 \u001b[38;5;241m=\u001b[39m WerewolfCharacter(name\u001b[38;5;241m=\u001b[39m\u001b[38;5;124m\"\u001b[39m\u001b[38;5;124mBob\u001b[39m\u001b[38;5;124m\"\u001b[39m, role\u001b[38;5;241m=\u001b[39m\u001b[38;5;124m\"\u001b[39m\u001b[38;5;124mvillager\u001b[39m\u001b[38;5;124m\"\u001b[39m)\n\u001b[0;32m      4\u001b[0m villager2 \u001b[38;5;241m=\u001b[39m WerewolfCharacter(name\u001b[38;5;241m=\u001b[39m\u001b[38;5;124m\"\u001b[39m\u001b[38;5;124mCharlie\u001b[39m\u001b[38;5;124m\"\u001b[39m, role\u001b[38;5;241m=\u001b[39m\u001b[38;5;124m\"\u001b[39m\u001b[38;5;124mvillager\u001b[39m\u001b[38;5;124m\"\u001b[39m)\n\u001b[1;32m----> 5\u001b[0m seer \u001b[38;5;241m=\u001b[39m \u001b[43mWerewolfCharacter\u001b[49m\u001b[43m(\u001b[49m\u001b[43mname\u001b[49m\u001b[38;5;241;43m=\u001b[39;49m\u001b[38;5;124;43m\"\u001b[39;49m\u001b[38;5;124;43mDiana\u001b[39;49m\u001b[38;5;124;43m\"\u001b[39;49m\u001b[43m,\u001b[49m\u001b[43m \u001b[49m\u001b[43mrole\u001b[49m\u001b[38;5;241;43m=\u001b[39;49m\u001b[38;5;124;43m\"\u001b[39;49m\u001b[38;5;124;43mseer\u001b[39;49m\u001b[38;5;124;43m\"\u001b[39;49m\u001b[43m)\u001b[49m\n\u001b[0;32m      6\u001b[0m witch \u001b[38;5;241m=\u001b[39m WerewolfCharacter(name\u001b[38;5;241m=\u001b[39m\u001b[38;5;124m\"\u001b[39m\u001b[38;5;124mEve\u001b[39m\u001b[38;5;124m\"\u001b[39m, role\u001b[38;5;241m=\u001b[39m\u001b[38;5;124m\"\u001b[39m\u001b[38;5;124mwitch\u001b[39m\u001b[38;5;124m\"\u001b[39m)\n\u001b[0;32m      8\u001b[0m moderator \u001b[38;5;241m=\u001b[39m Moderator([wolf1, wolf2, villager1, villager2, seer, witch])\n",
      "File \u001b[1;32mc:\\Users\\ACER\\Desktop\\werewolves\\werewolves_character.py:45\u001b[0m, in \u001b[0;36mWerewolfCharacter.__init__\u001b[1;34m(self, name, role, teammate)\u001b[0m\n\u001b[0;32m     38\u001b[0m     \u001b[38;5;28mself\u001b[39m\u001b[38;5;241m.\u001b[39mmemory[\u001b[38;5;124m'\u001b[39m\u001b[38;5;124minvestigate_history\u001b[39m\u001b[38;5;124m'\u001b[39m] \u001b[38;5;241m=\u001b[39m []\n\u001b[0;32m     40\u001b[0m \u001b[38;5;28mself\u001b[39m\u001b[38;5;241m.\u001b[39mclient \u001b[38;5;241m=\u001b[39m OpenAI(\n\u001b[0;32m     41\u001b[0m     base_url\u001b[38;5;241m=\u001b[39murl,\n\u001b[0;32m     42\u001b[0m     api_key\u001b[38;5;241m=\u001b[39mapi_key\n\u001b[0;32m     43\u001b[0m )\n\u001b[1;32m---> 45\u001b[0m \u001b[38;5;28;43mself\u001b[39;49m\u001b[38;5;241;43m.\u001b[39;49m\u001b[43mset_system_prompt\u001b[49m\u001b[43m(\u001b[49m\u001b[43m)\u001b[49m\n",
      "File \u001b[1;32mc:\\Users\\ACER\\Desktop\\werewolves\\werewolves_character.py:54\u001b[0m, in \u001b[0;36mWerewolfCharacter.set_system_prompt\u001b[1;34m(self)\u001b[0m\n\u001b[0;32m     52\u001b[0m     \u001b[38;5;28mself\u001b[39m\u001b[38;5;241m.\u001b[39mnight_prompt \u001b[38;5;241m=\u001b[39m system_prompt[\u001b[38;5;28mself\u001b[39m\u001b[38;5;241m.\u001b[39mrole][\u001b[38;5;124m'\u001b[39m\u001b[38;5;124mnight\u001b[39m\u001b[38;5;124m'\u001b[39m]\u001b[38;5;241m.\u001b[39mformat(teammate\u001b[38;5;241m=\u001b[39m\u001b[38;5;28mself\u001b[39m\u001b[38;5;241m.\u001b[39mteammate,name\u001b[38;5;241m=\u001b[39m\u001b[38;5;28mself\u001b[39m\u001b[38;5;241m.\u001b[39mname)\n\u001b[0;32m     53\u001b[0m \u001b[38;5;28;01melif\u001b[39;00m \u001b[38;5;28mself\u001b[39m\u001b[38;5;241m.\u001b[39mrole \u001b[38;5;241m!=\u001b[39m \u001b[38;5;124m'\u001b[39m\u001b[38;5;124mvillager\u001b[39m\u001b[38;5;124m'\u001b[39m:\n\u001b[1;32m---> 54\u001b[0m     \u001b[38;5;28mself\u001b[39m\u001b[38;5;241m.\u001b[39mnight_prompt \u001b[38;5;241m=\u001b[39m \u001b[43msystem_prompt\u001b[49m\u001b[43m[\u001b[49m\u001b[38;5;28;43mself\u001b[39;49m\u001b[38;5;241;43m.\u001b[39;49m\u001b[43mrole\u001b[49m\u001b[43m]\u001b[49m\u001b[43m[\u001b[49m\u001b[38;5;124;43m'\u001b[39;49m\u001b[38;5;124;43mnight\u001b[39;49m\u001b[38;5;124;43m'\u001b[39;49m\u001b[43m]\u001b[49m\u001b[38;5;241;43m.\u001b[39;49m\u001b[43mformat\u001b[49m\u001b[43m(\u001b[49m\u001b[43mname\u001b[49m\u001b[38;5;241;43m=\u001b[39;49m\u001b[38;5;28;43mself\u001b[39;49m\u001b[38;5;241;43m.\u001b[39;49m\u001b[43mname\u001b[49m\u001b[43m)\u001b[49m\n",
      "\u001b[1;31mKeyError\u001b[0m: '\\n            \"investigate_target\"'"
     ]
    }
   ],
   "source": [
    "wolf1 = WerewolfCharacter(name=\"Alex\", role=\"werewolf\", teammate=\"Anson\")\n",
    "wolf2 = WerewolfCharacter(name=\"Anson\", role=\"werewolf\", teammate=\"Alex\")\n",
    "villager1 = WerewolfCharacter(name=\"Bob\", role=\"villager\")\n",
    "villager2 = WerewolfCharacter(name=\"Charlie\", role=\"villager\")\n",
    "seer = WerewolfCharacter(name=\"Diana\", role=\"seer\")\n",
    "witch = WerewolfCharacter(name=\"Eve\", role=\"witch\")\n",
    "\n",
    "moderator = Moderator([wolf1, wolf2, villager1, villager2, seer, witch])\n",
    "random.shuffle(moderator.left_players)"
   ]
  },
  {
   "cell_type": "code",
   "execution_count": null,
   "id": "308aeaf7",
   "metadata": {},
   "outputs": [],
   "source": [
    "with open(\"message.yaml\", \"r\", encoding=\"utf-8\") as f:\n",
    "    messages = yaml.safe_load(f)"
   ]
  },
  {
   "cell_type": "code",
   "execution_count": null,
   "id": "d9728239",
   "metadata": {},
   "outputs": [],
   "source": [
    "def rtn_message(msg):\n",
    "    time.sleep(1)\n",
    "    print(msg)"
   ]
  },
  {
   "cell_type": "code",
   "execution_count": null,
   "id": "9b7ebcc3",
   "metadata": {},
   "outputs": [
    {
     "name": "stdout",
     "output_type": "stream",
     "text": [
      "🌙 夜幕降臨，請所有玩家閉眼。\n",
      "😈 請狼人睜，互相確認身分，然後選擇今晚要殺的玩家。\n",
      "```json\n",
      "{\n",
      "  \"kill_target\": \"Charlie\",\n",
      "  \"reason\": \"第一晚訊息不足，為避免針對性選擇，隨機選擇非狼人陣營的玩家。Charlie的名字在中間位置，避免選擇列表前方的玩家。\"\n",
      "}\n",
      "```\n",
      "Anson選擇了Charlie作為殺人目標\n",
      "🧙‍♀️ 預言家請睜眼，選擇你要查驗的對象。\n",
      "🧙‍♀️ 預言家，你要查驗的對象是Eve\n",
      "🧪 女巫請睜眼。今晚被殺的是：Charlie。你要使用解藥救他嗎？\n",
      "你是Eve\n",
      "            你是一名狼人殺中的 AI 玩家，角色是「女巫」。\n",
      "\n",
      "            你擁有兩個技能（每局各限用一次，每晚只能使用一種，也可以都不使用）：\n",
      "            - 解藥：可救回今晚被狼人殺死的玩家。\n",
      "            - 毒藥：可毒死任意一名仍在場上的玩家。\n",
      "\n",
      "            你目前進入「夜晚行動階段」。\n",
      "\n",
      "            🎯 決策規則：\n",
      "            - 若今晚你被殺，你**必須使用解藥才能繼續存活與行動**，否則將立即死亡，無法進行任何推理與毒殺；\n",
      "            - 請合理懷疑狼人可能的自刀行為，避免浪費解藥；\n",
      "            - 請判斷是否使用毒藥，目標選擇應基於你對局勢的合理懷疑；\n",
      "            - 若你選擇使用解藥，當晚不能使用毒藥（反之亦然）；\n",
      "            - 你也可以選擇本晚不使用任何技能，以保留資源。\n",
      "            \n",
      "\n",
      "            做出判斷：\n",
      "        \n",
      "```json\n",
      "{\n",
      "  \"use_heal\": true,\n",
      "  \"reason\": \"Charlie被殺，我必須使用解藥才能存活，並在後續輪次繼續參與遊戲。由於沒有發言記錄，我無法判斷是否存在狼人自刀的可能性，保命是第一優先。\"\n",
      "}\n",
      "```\n",
      "女巫Eve選擇使用了解藥，救了Charlie\n",
      "🧪 女巫，你是否要使用毒藥殺其他人？\n",
      "☀️ 天亮了！\n",
      "📢 昨晚平安無事！\n"
     ]
    }
   ],
   "source": [
    "game_is_running = True\n",
    "while game_is_running:\n",
    "    # Set Status\n",
    "    moderator.set_night_status()\n",
    "    use_heal = False\n",
    "    killed_dict = {}\n",
    "    # Day and Night Cycle\n",
    "    print(messages['night'])\n",
    "    print(messages['wolf_stage1'])\n",
    "    \n",
    "    # Get The potion status\n",
    "    potion_status = {'has_heal':witch.has_heal_potion, 'has_poison':witch.has_poison_potion}\n",
    "    \n",
    "    # Random selection of the werewolf\n",
    "    rdm_wolf = random.choice(moderator.werewolf_team)\n",
    "    response = rdm_wolf.night_action(potion_status=potion_status)\n",
    "    \n",
    "    # Werewolf action --------------------------------------\n",
    "    try:\n",
    "        print(response) # 查看狼人選擇的邏輯\n",
    "        \n",
    "        kill_target = extract_json(response)['kill_target']\n",
    "        kill_target = [player for player in moderator.left_players if player.name == kill_target][0]\n",
    "        if kill_target.name not in [player.name for player in moderator.left_players]:\n",
    "            print(f\"{rdm_wolf.name}選擇的殺人目標不在存活名單中\")\n",
    "            \n",
    "        print(f\"{rdm_wolf.name}選擇了{kill_target.name}作為殺人目標\")\n",
    "    except json.JSONDecodeError:\n",
    "        print(\"狼人-殺人步驟解析錯誤\")\n",
    "        print(response)\n",
    "    # werewolf action end -----------------------------------\n",
    "\n",
    "    # seer action --------------------------------------\n",
    "    print(messages['seer_stage1'])\n",
    "    if seer.is_alive: #預言家還活著的情況下\n",
    "        response = seer.night_action()\n",
    "        try:\n",
    "            # print(response) # 查看預言家選擇的邏輯\n",
    "            \n",
    "            investigate_target = extract_json(response)['investigate_target']\n",
    "            if investigate_target not in [player.name for player in moderator.left_players]:\n",
    "                print(f\"{seer.name}選擇的查驗目標不在存活名單中\")\n",
    "                \n",
    "            print(messages['seer_stage2'].format(investigate_target))\n",
    "            # 查驗結果\n",
    "            if investigate_target in [player.name for player in moderator.werewolf_team]:\n",
    "                result = \"werewolf\"\n",
    "            else:\n",
    "                result = \"goodteam\"\n",
    "            \n",
    "            # 將查驗結果寫入預言家的記憶中\n",
    "            seer.memory['investigate_history'].append({investigate_target:result})\n",
    "        except json.JSONDecodeError:\n",
    "            print(\"預言家-查驗步驟解析錯誤\")\n",
    "            print(response)\n",
    "    else: # 預言家已經死了的情況下\n",
    "        print(messages['seer_stage2'].format('...'))\n",
    "    # seer action end -----------------------------------\n",
    "\n",
    "    # witch action --------------------------------------\n",
    "    print(messages['witch_stage1'].format(player=kill_target.name))\n",
    "    if witch.is_alive and witch.has_heal_potion: # 女巫還活著且有解藥的情況下\n",
    "        response = witch.night_action(killed_player=kill_target.name, potion_type='heal')\n",
    "        try:\n",
    "            print(response) # 查看女巫選擇的邏輯\n",
    "\n",
    "            use_heal = extract_json(response)['use_heal']\n",
    "            if use_heal: # 女巫選擇使用解藥\n",
    "                # 更新解藥狀態\n",
    "                witch.has_heal_potion = False\n",
    "                witch.memory['potion_history']['heal']['person'] = kill_target.name\n",
    "                witch.memory['potion_history']['heal']['night'] = moderator.night\n",
    "                moderator.set_potion_status(potion_type='heal')\n",
    "\n",
    "                print(f\"女巫{witch.name}選擇使用了解藥，救了{kill_target.name}\")\n",
    "\n",
    "            else: # 女巫選擇不使用解藥\n",
    "                print(f\"女巫{witch.name}選擇不使用解藥\")\n",
    "                killed_dict[kill_target] = '被狼人殺死'\n",
    "        except json.JSONDecodeError:\n",
    "            print(\"女巫-救人步驟解析錯誤\")\n",
    "            print(response)\n",
    "    elif witch.is_alive and not witch.has_heal_potion: # 女巫還活著，但沒有解藥的情況下\n",
    "        print(\"女巫沒有解藥了\")\n",
    "        killed_dict[kill_target] = '被狼人殺死'\n",
    "\n",
    "    print(messages['witch_stage2'])\n",
    "    \n",
    "    if witch.is_alive and witch.has_poison_potion and not use_heal: # 女巫還活著，有毒藥，以及沒使用過解藥的情況下\n",
    "        response = witch.night_action(killed_player=kill_target.name, potion_type='poison')\n",
    "        try:\n",
    "            print(response) # 查看女巫選擇的邏輯\n",
    "            response = extract_json(response)\n",
    "            use_poison = response['use_poison']\n",
    "            poison_target = response['poison_target']\n",
    "            if use_poison:\n",
    "                if poison_target not in [player.name for player in moderator.left_players]:\n",
    "                    print(f\"{witch.name}選擇的毒藥目標不在存活名單中\")\n",
    "                poison_target = [player for player in moderator.left_players if player.name == poison_target][0]\n",
    "                killed_dict[poison_target] = '被毒殺'\n",
    "                # 更新毒藥狀態\n",
    "                moderator.set_potion_status(potion_type='poison',person=poison_target.name)\n",
    "                witch.has_poison_potion = False\n",
    "                print(f\"女巫{witch.name}選擇使用了毒藥，毒死了{poison_target.name}\")\n",
    "        except json.JSONDecodeError:\n",
    "            print(\"女巫-毒藥步驟解析錯誤\")\n",
    "            print(response)\n",
    "    \n",
    "    print(messages['day'])\n",
    "            \n",
    "    # 更新狀態，如果有2個人死亡，只有女巫和狼人知道死因\n",
    "    if len(killed_dict) > 1:\n",
    "        roles = [player for player in moderator.left_players if (player.role == 'werewolf') or (player.role == 'witch')]\n",
    "        roles_other = [player for player in moderator.left_players if (player.role != 'werewolf') and (player.role != 'witch')]\n",
    "        for killed_player, kill_reason in killed_dict.items():\n",
    "            moderator.update_kill_history(roles,killed_player, kill_reason)\n",
    "            moderator.update_kill_history(roles_other,killed_player, '不確定被狼人殺死或者是被毒殺')\n",
    "        print(messages['killed'].format(player=','.join([player.name for player in killed_dict.keys()])))\n",
    "        \n",
    "    elif len(killed_dict) == 1:# 只有一個人死亡\n",
    "        for killed_player, kill_reason in killed_dict.items():\n",
    "            moderator.update_kill_history(moderator.left_players,killed_player, kill_reason)\n",
    "        print(messages['killed'].format(player=','.join([player.name for player in killed_dict.keys()])))\n",
    "    else: # 沒有死亡\n",
    "        print(messages['safe'])\n",
    "        \n",
    "    # 更新存活名單\n",
    "    moderator.left_players = [player for player in moderator.left_players if player.is_alive]\n",
    "    break"
   ]
  },
  {
   "cell_type": "code",
   "execution_count": 7,
   "id": "9989a500",
   "metadata": {},
   "outputs": [
    {
     "data": {
      "text/plain": [
       "{<werewolves_character.WerewolfCharacter at 0x2845e51efe0>: '被狼人殺死',\n",
       " <werewolves_character.WerewolfCharacter at 0x28460611c60>: '被毒殺'}"
      ]
     },
     "execution_count": 7,
     "metadata": {},
     "output_type": "execute_result"
    }
   ],
   "source": [
    "killed_dict"
   ]
  },
  {
   "cell_type": "code",
   "execution_count": 8,
   "id": "a9cb77b4",
   "metadata": {},
   "outputs": [
    {
     "ename": "JSONDecodeError",
     "evalue": "Expecting value: line 2 column 17 (char 18)",
     "output_type": "error",
     "traceback": [
      "\u001b[1;31m---------------------------------------------------------------------------\u001b[0m",
      "\u001b[1;31mJSONDecodeError\u001b[0m                           Traceback (most recent call last)",
      "Cell \u001b[1;32mIn[8], line 1\u001b[0m\n\u001b[1;32m----> 1\u001b[0m \u001b[43mjson\u001b[49m\u001b[38;5;241;43m.\u001b[39;49m\u001b[43mloads\u001b[49m\u001b[43m(\u001b[49m\u001b[38;5;124;43m\"\"\"\u001b[39;49m\u001b[38;5;124;43m{\u001b[39;49m\n\u001b[0;32m      2\u001b[0m \u001b[38;5;124;43m  \u001b[39;49m\u001b[38;5;124;43m\"\u001b[39;49m\u001b[38;5;124;43muse_poison\u001b[39;49m\u001b[38;5;124;43m\"\u001b[39;49m\u001b[38;5;124;43m: True,\u001b[39;49m\n\u001b[0;32m      3\u001b[0m \u001b[38;5;124;43m  \u001b[39;49m\u001b[38;5;124;43m\"\u001b[39;49m\u001b[38;5;124;43mpoison_target\u001b[39;49m\u001b[38;5;124;43m\"\u001b[39;49m\u001b[38;5;124;43m: \u001b[39;49m\u001b[38;5;124;43m\"\u001b[39;49m\u001b[38;5;124;43mAlex\u001b[39;49m\u001b[38;5;124;43m\"\u001b[39;49m\u001b[38;5;124;43m,\u001b[39;49m\n\u001b[0;32m      4\u001b[0m \u001b[38;5;124;43m  \u001b[39;49m\u001b[38;5;124;43m\"\u001b[39;49m\u001b[38;5;124;43mreason\u001b[39;49m\u001b[38;5;124;43m\"\u001b[39;49m\u001b[38;5;124;43m: \u001b[39;49m\u001b[38;5;124;43m\"\u001b[39;49m\u001b[38;5;124;43m由於我自己（Eve）被殺，且沒有其他資訊，我必須假設這是一個狼人自刀的局。為了避免狼人陣營過於順利，我選擇盲毒一個玩家，目標選擇列表中第一個玩家Alex，希望能藉此打亂狼人的策略，同時也作為一個訊號，表明女巫不是一個輕易被愚弄的角色。\u001b[39;49m\u001b[38;5;124;43m\"\u001b[39;49m\n\u001b[0;32m      5\u001b[0m \u001b[38;5;124;43m}\u001b[39;49m\u001b[38;5;124;43m\"\"\"\u001b[39;49m\u001b[43m)\u001b[49m\n",
      "File \u001b[1;32mc:\\Users\\ACER\\.conda\\envs\\ai23\\lib\\json\\__init__.py:346\u001b[0m, in \u001b[0;36mloads\u001b[1;34m(s, cls, object_hook, parse_float, parse_int, parse_constant, object_pairs_hook, **kw)\u001b[0m\n\u001b[0;32m    341\u001b[0m     s \u001b[38;5;241m=\u001b[39m s\u001b[38;5;241m.\u001b[39mdecode(detect_encoding(s), \u001b[38;5;124m'\u001b[39m\u001b[38;5;124msurrogatepass\u001b[39m\u001b[38;5;124m'\u001b[39m)\n\u001b[0;32m    343\u001b[0m \u001b[38;5;28;01mif\u001b[39;00m (\u001b[38;5;28mcls\u001b[39m \u001b[38;5;129;01mis\u001b[39;00m \u001b[38;5;28;01mNone\u001b[39;00m \u001b[38;5;129;01mand\u001b[39;00m object_hook \u001b[38;5;129;01mis\u001b[39;00m \u001b[38;5;28;01mNone\u001b[39;00m \u001b[38;5;129;01mand\u001b[39;00m\n\u001b[0;32m    344\u001b[0m         parse_int \u001b[38;5;129;01mis\u001b[39;00m \u001b[38;5;28;01mNone\u001b[39;00m \u001b[38;5;129;01mand\u001b[39;00m parse_float \u001b[38;5;129;01mis\u001b[39;00m \u001b[38;5;28;01mNone\u001b[39;00m \u001b[38;5;129;01mand\u001b[39;00m\n\u001b[0;32m    345\u001b[0m         parse_constant \u001b[38;5;129;01mis\u001b[39;00m \u001b[38;5;28;01mNone\u001b[39;00m \u001b[38;5;129;01mand\u001b[39;00m object_pairs_hook \u001b[38;5;129;01mis\u001b[39;00m \u001b[38;5;28;01mNone\u001b[39;00m \u001b[38;5;129;01mand\u001b[39;00m \u001b[38;5;129;01mnot\u001b[39;00m kw):\n\u001b[1;32m--> 346\u001b[0m     \u001b[38;5;28;01mreturn\u001b[39;00m \u001b[43m_default_decoder\u001b[49m\u001b[38;5;241;43m.\u001b[39;49m\u001b[43mdecode\u001b[49m\u001b[43m(\u001b[49m\u001b[43ms\u001b[49m\u001b[43m)\u001b[49m\n\u001b[0;32m    347\u001b[0m \u001b[38;5;28;01mif\u001b[39;00m \u001b[38;5;28mcls\u001b[39m \u001b[38;5;129;01mis\u001b[39;00m \u001b[38;5;28;01mNone\u001b[39;00m:\n\u001b[0;32m    348\u001b[0m     \u001b[38;5;28mcls\u001b[39m \u001b[38;5;241m=\u001b[39m JSONDecoder\n",
      "File \u001b[1;32mc:\\Users\\ACER\\.conda\\envs\\ai23\\lib\\json\\decoder.py:337\u001b[0m, in \u001b[0;36mJSONDecoder.decode\u001b[1;34m(self, s, _w)\u001b[0m\n\u001b[0;32m    332\u001b[0m \u001b[38;5;28;01mdef\u001b[39;00m \u001b[38;5;21mdecode\u001b[39m(\u001b[38;5;28mself\u001b[39m, s, _w\u001b[38;5;241m=\u001b[39mWHITESPACE\u001b[38;5;241m.\u001b[39mmatch):\n\u001b[0;32m    333\u001b[0m \u001b[38;5;250m    \u001b[39m\u001b[38;5;124;03m\"\"\"Return the Python representation of ``s`` (a ``str`` instance\u001b[39;00m\n\u001b[0;32m    334\u001b[0m \u001b[38;5;124;03m    containing a JSON document).\u001b[39;00m\n\u001b[0;32m    335\u001b[0m \n\u001b[0;32m    336\u001b[0m \u001b[38;5;124;03m    \"\"\"\u001b[39;00m\n\u001b[1;32m--> 337\u001b[0m     obj, end \u001b[38;5;241m=\u001b[39m \u001b[38;5;28;43mself\u001b[39;49m\u001b[38;5;241;43m.\u001b[39;49m\u001b[43mraw_decode\u001b[49m\u001b[43m(\u001b[49m\u001b[43ms\u001b[49m\u001b[43m,\u001b[49m\u001b[43m \u001b[49m\u001b[43midx\u001b[49m\u001b[38;5;241;43m=\u001b[39;49m\u001b[43m_w\u001b[49m\u001b[43m(\u001b[49m\u001b[43ms\u001b[49m\u001b[43m,\u001b[49m\u001b[43m \u001b[49m\u001b[38;5;241;43m0\u001b[39;49m\u001b[43m)\u001b[49m\u001b[38;5;241;43m.\u001b[39;49m\u001b[43mend\u001b[49m\u001b[43m(\u001b[49m\u001b[43m)\u001b[49m\u001b[43m)\u001b[49m\n\u001b[0;32m    338\u001b[0m     end \u001b[38;5;241m=\u001b[39m _w(s, end)\u001b[38;5;241m.\u001b[39mend()\n\u001b[0;32m    339\u001b[0m     \u001b[38;5;28;01mif\u001b[39;00m end \u001b[38;5;241m!=\u001b[39m \u001b[38;5;28mlen\u001b[39m(s):\n",
      "File \u001b[1;32mc:\\Users\\ACER\\.conda\\envs\\ai23\\lib\\json\\decoder.py:355\u001b[0m, in \u001b[0;36mJSONDecoder.raw_decode\u001b[1;34m(self, s, idx)\u001b[0m\n\u001b[0;32m    353\u001b[0m     obj, end \u001b[38;5;241m=\u001b[39m \u001b[38;5;28mself\u001b[39m\u001b[38;5;241m.\u001b[39mscan_once(s, idx)\n\u001b[0;32m    354\u001b[0m \u001b[38;5;28;01mexcept\u001b[39;00m \u001b[38;5;167;01mStopIteration\u001b[39;00m \u001b[38;5;28;01mas\u001b[39;00m err:\n\u001b[1;32m--> 355\u001b[0m     \u001b[38;5;28;01mraise\u001b[39;00m JSONDecodeError(\u001b[38;5;124m\"\u001b[39m\u001b[38;5;124mExpecting value\u001b[39m\u001b[38;5;124m\"\u001b[39m, s, err\u001b[38;5;241m.\u001b[39mvalue) \u001b[38;5;28;01mfrom\u001b[39;00m \u001b[38;5;28;01mNone\u001b[39;00m\n\u001b[0;32m    356\u001b[0m \u001b[38;5;28;01mreturn\u001b[39;00m obj, end\n",
      "\u001b[1;31mJSONDecodeError\u001b[0m: Expecting value: line 2 column 17 (char 18)"
     ]
    }
   ],
   "source": [
    "json.loads(\"\"\"{\n",
    "  \"use_poison\": True,\n",
    "  \"poison_target\": \"Alex\",\n",
    "  \"reason\": \"由於我自己（Eve）被殺，且沒有其他資訊，我必須假設這是一個狼人自刀的局。為了避免狼人陣營過於順利，我選擇盲毒一個玩家，目標選擇列表中第一個玩家Alex，希望能藉此打亂狼人的策略，同時也作為一個訊號，表明女巫不是一個輕易被愚弄的角色。\"\n",
    "}\"\"\")"
   ]
  },
  {
   "cell_type": "code",
   "execution_count": null,
   "id": "b9ece917",
   "metadata": {},
   "outputs": [
    {
     "name": "stdout",
     "output_type": "stream",
     "text": [
      "無法解析 JSON: {\n",
      "  \"use_poison\": True,\n",
      "  \"poison_target\": \"Alex\",\n",
      "  \"reason\": \"由於我自己（Eve）被殺，且沒有其他資訊，我必須假設這是一個狼人自刀的局。為了避免狼人陣營過於順利，我選擇盲毒一個玩家，目標選擇列表中第一個玩家Alex，希望能藉此打亂狼人的策略，同時也作為一個訊號，表明女巫不是一個輕易被愚弄的角色。\"\n",
      "}\n",
      "錯誤訊息: Expecting value: line 2 column 17 (char 18)\n"
     ]
    }
   ],
   "source": [
    "extract_json(\"\"\"\n",
    "```json\n",
    "{\n",
    "  \"use_poison\": True,\n",
    "  \"poison_target\": \"Alex\",\n",
    "  \"reason\": \"由於我自己（Eve）被殺，且沒有其他資訊，我必須假設這是一個狼人自刀的局。為了避免狼人陣營過於順利，我選擇盲毒一個玩家，目標選擇列表中第一個玩家Alex，希望能藉此打亂狼人的策略，同時也作為一個訊號，表明女巫不是一個輕易被愚弄的角色。\"\n",
    "}\n",
    "```\n",
    "\"\"\")"
   ]
  },
  {
   "cell_type": "code",
   "execution_count": null,
   "id": "72fcdd8e",
   "metadata": {},
   "outputs": [],
   "source": []
  }
 ],
 "metadata": {
  "kernelspec": {
   "display_name": "Python 3",
   "language": "python",
   "name": "python3"
  },
  "language_info": {
   "codemirror_mode": {
    "name": "ipython",
    "version": 3
   },
   "file_extension": ".py",
   "mimetype": "text/x-python",
   "name": "python",
   "nbconvert_exporter": "python",
   "pygments_lexer": "ipython3",
   "version": "3.10.13"
  }
 },
 "nbformat": 4,
 "nbformat_minor": 5
}
