{
 "cells": [
  {
   "cell_type": "code",
   "execution_count": 1,
   "id": "946950c8",
   "metadata": {},
   "outputs": [],
   "source": [
    "from fpdf import FPDF\n",
    "\n",
    "class GameLogPDF(FPDF):\n",
    "    def __init__(self):\n",
    "        super().__init__()\n",
    "        # 加入字體（一次就好）\n",
    "        self.add_font(\"kaiu\", \"\", \"../../fonts/KAIU.TTF\", uni=True)\n",
    "        self.add_font(\"times\", \"\", \"../../fonts/TIMES.TTF\", uni=True)\n",
    "        \n",
    "    def header(self):\n",
    "        # 設定字體\n",
    "        self.set_font(\"kaiu\", size=12)\n",
    "        self.cell(0, 10, \"遊戲記錄\", ln=True, align=\"C\")\n",
    "        self.ln(5)"
   ]
  },
  {
   "cell_type": "code",
   "execution_count": 7,
   "id": "3086aff6",
   "metadata": {},
   "outputs": [
    {
     "data": {
      "text/plain": [
       "'2025_05_27_132454'"
      ]
     },
     "execution_count": 7,
     "metadata": {},
     "output_type": "execute_result"
    }
   ],
   "source": [
    "import datetime\n",
    "\n",
    "datetime.datetime.now().strftime(\"%Y_%m_%d_%H%M%S\")"
   ]
  },
  {
   "cell_type": "code",
   "execution_count": 2,
   "id": "ea9405a4",
   "metadata": {},
   "outputs": [],
   "source": [
    "pdf = GameLogPDF()\n",
    "pdf.add_page()"
   ]
  },
  {
   "cell_type": "code",
   "execution_count": 3,
   "id": "4a925a14",
   "metadata": {},
   "outputs": [],
   "source": [
    "game_log = [\n",
    "    {\"type\": \"system\", \"text\": \"🎲 遊戲開始！角色分發中...\"},\n",
    "    {\"type\": \"player\", \"name\": \"PlayerA\", \"text\": \"Hello, I’m here to play!\"},\n",
    "    {\"type\": \"god\", \"text\": \"玩家A實際身分是狼人。\"},\n",
    "    {\"type\": \"player\", \"name\": \"玩家B\", \"text\": \"你是不是狼人？\"},\n",
    "]"
   ]
  },
  {
   "cell_type": "code",
   "execution_count": 4,
   "id": "f65f8e4c",
   "metadata": {},
   "outputs": [
    {
     "ename": "FileNotFoundError",
     "evalue": "[Errno 2] No such file or directory: 'fonts/KAIU.TTF'",
     "output_type": "error",
     "traceback": [
      "\u001b[1;31m---------------------------------------------------------------------------\u001b[0m",
      "\u001b[1;31mFileNotFoundError\u001b[0m                         Traceback (most recent call last)",
      "Cell \u001b[1;32mIn[4], line 16\u001b[0m\n\u001b[0;32m     13\u001b[0m         pdf\u001b[38;5;241m.\u001b[39mset_font(\u001b[38;5;124m\"\u001b[39m\u001b[38;5;124mkaiu\u001b[39m\u001b[38;5;124m\"\u001b[39m, \u001b[38;5;124m\"\u001b[39m\u001b[38;5;124m\"\u001b[39m, \u001b[38;5;241m11\u001b[39m)\n\u001b[0;32m     14\u001b[0m         pdf\u001b[38;5;241m.\u001b[39mcell(\u001b[38;5;241m0\u001b[39m, \u001b[38;5;241m10\u001b[39m, \u001b[38;5;124mf\u001b[39m\u001b[38;5;124m\"\u001b[39m\u001b[38;5;124m[上帝視角] \u001b[39m\u001b[38;5;132;01m{\u001b[39;00mentry[\u001b[38;5;124m'\u001b[39m\u001b[38;5;124mtext\u001b[39m\u001b[38;5;124m'\u001b[39m]\u001b[38;5;132;01m}\u001b[39;00m\u001b[38;5;124m\"\u001b[39m, ln\u001b[38;5;241m=\u001b[39m\u001b[38;5;28;01mTrue\u001b[39;00m)\n\u001b[1;32m---> 16\u001b[0m \u001b[43mpdf\u001b[49m\u001b[38;5;241;43m.\u001b[39;49m\u001b[43moutput\u001b[49m\u001b[43m(\u001b[49m\u001b[38;5;124;43m\"\u001b[39;49m\u001b[38;5;124;43mgame_log.pdf\u001b[39;49m\u001b[38;5;124;43m\"\u001b[39;49m\u001b[43m)\u001b[49m\n",
      "File \u001b[1;32mc:\\Users\\ACER\\.conda\\envs\\ai23\\lib\\site-packages\\fpdf\\fpdf.py:1065\u001b[0m, in \u001b[0;36mFPDF.output\u001b[1;34m(self, name, dest)\u001b[0m\n\u001b[0;32m   1063\u001b[0m \u001b[38;5;66;03m#Finish document if necessary\u001b[39;00m\n\u001b[0;32m   1064\u001b[0m \u001b[38;5;28;01mif\u001b[39;00m(\u001b[38;5;28mself\u001b[39m\u001b[38;5;241m.\u001b[39mstate\u001b[38;5;241m<\u001b[39m\u001b[38;5;241m3\u001b[39m):\n\u001b[1;32m-> 1065\u001b[0m     \u001b[38;5;28;43mself\u001b[39;49m\u001b[38;5;241;43m.\u001b[39;49m\u001b[43mclose\u001b[49m\u001b[43m(\u001b[49m\u001b[43m)\u001b[49m\n\u001b[0;32m   1066\u001b[0m dest\u001b[38;5;241m=\u001b[39mdest\u001b[38;5;241m.\u001b[39mupper()\n\u001b[0;32m   1067\u001b[0m \u001b[38;5;28;01mif\u001b[39;00m(dest\u001b[38;5;241m==\u001b[39m\u001b[38;5;124m'\u001b[39m\u001b[38;5;124m'\u001b[39m):\n",
      "File \u001b[1;32mc:\\Users\\ACER\\.conda\\envs\\ai23\\lib\\site-packages\\fpdf\\fpdf.py:246\u001b[0m, in \u001b[0;36mFPDF.close\u001b[1;34m(self)\u001b[0m\n\u001b[0;32m    244\u001b[0m \u001b[38;5;28mself\u001b[39m\u001b[38;5;241m.\u001b[39m_endpage()\n\u001b[0;32m    245\u001b[0m \u001b[38;5;66;03m#close document\u001b[39;00m\n\u001b[1;32m--> 246\u001b[0m \u001b[38;5;28;43mself\u001b[39;49m\u001b[38;5;241;43m.\u001b[39;49m\u001b[43m_enddoc\u001b[49m\u001b[43m(\u001b[49m\u001b[43m)\u001b[49m\n",
      "File \u001b[1;32mc:\\Users\\ACER\\.conda\\envs\\ai23\\lib\\site-packages\\fpdf\\fpdf.py:1637\u001b[0m, in \u001b[0;36mFPDF._enddoc\u001b[1;34m(self)\u001b[0m\n\u001b[0;32m   1635\u001b[0m \u001b[38;5;28mself\u001b[39m\u001b[38;5;241m.\u001b[39m_putheader()\n\u001b[0;32m   1636\u001b[0m \u001b[38;5;28mself\u001b[39m\u001b[38;5;241m.\u001b[39m_putpages()\n\u001b[1;32m-> 1637\u001b[0m \u001b[38;5;28;43mself\u001b[39;49m\u001b[38;5;241;43m.\u001b[39;49m\u001b[43m_putresources\u001b[49m\u001b[43m(\u001b[49m\u001b[43m)\u001b[49m\n\u001b[0;32m   1638\u001b[0m \u001b[38;5;66;03m#Info\u001b[39;00m\n\u001b[0;32m   1639\u001b[0m \u001b[38;5;28mself\u001b[39m\u001b[38;5;241m.\u001b[39m_newobj()\n",
      "File \u001b[1;32mc:\\Users\\ACER\\.conda\\envs\\ai23\\lib\\site-packages\\fpdf\\fpdf.py:1584\u001b[0m, in \u001b[0;36mFPDF._putresources\u001b[1;34m(self)\u001b[0m\n\u001b[0;32m   1583\u001b[0m \u001b[38;5;28;01mdef\u001b[39;00m \u001b[38;5;21m_putresources\u001b[39m(\u001b[38;5;28mself\u001b[39m):\n\u001b[1;32m-> 1584\u001b[0m     \u001b[38;5;28;43mself\u001b[39;49m\u001b[38;5;241;43m.\u001b[39;49m\u001b[43m_putfonts\u001b[49m\u001b[43m(\u001b[49m\u001b[43m)\u001b[49m\n\u001b[0;32m   1585\u001b[0m     \u001b[38;5;28mself\u001b[39m\u001b[38;5;241m.\u001b[39m_putimages()\n\u001b[0;32m   1586\u001b[0m     \u001b[38;5;66;03m#Resource dictionary\u001b[39;00m\n",
      "File \u001b[1;32mc:\\Users\\ACER\\.conda\\envs\\ai23\\lib\\site-packages\\fpdf\\fpdf.py:1288\u001b[0m, in \u001b[0;36mFPDF._putfonts\u001b[1;34m(self)\u001b[0m\n\u001b[0;32m   1286\u001b[0m subset \u001b[38;5;241m=\u001b[39m font[\u001b[38;5;124m'\u001b[39m\u001b[38;5;124msubset\u001b[39m\u001b[38;5;124m'\u001b[39m]\n\u001b[0;32m   1287\u001b[0m \u001b[38;5;28;01mdel\u001b[39;00m subset[\u001b[38;5;241m0\u001b[39m]\n\u001b[1;32m-> 1288\u001b[0m ttfontstream \u001b[38;5;241m=\u001b[39m \u001b[43mttf\u001b[49m\u001b[38;5;241;43m.\u001b[39;49m\u001b[43mmakeSubset\u001b[49m\u001b[43m(\u001b[49m\u001b[43mfont\u001b[49m\u001b[43m[\u001b[49m\u001b[38;5;124;43m'\u001b[39;49m\u001b[38;5;124;43mttffile\u001b[39;49m\u001b[38;5;124;43m'\u001b[39;49m\u001b[43m]\u001b[49m\u001b[43m,\u001b[49m\u001b[43m \u001b[49m\u001b[43msubset\u001b[49m\u001b[43m)\u001b[49m\n\u001b[0;32m   1289\u001b[0m ttfontsize \u001b[38;5;241m=\u001b[39m \u001b[38;5;28mlen\u001b[39m(ttfontstream)\n\u001b[0;32m   1290\u001b[0m fontstream \u001b[38;5;241m=\u001b[39m zlib\u001b[38;5;241m.\u001b[39mcompress(ttfontstream)\n",
      "File \u001b[1;32mc:\\Users\\ACER\\.conda\\envs\\ai23\\lib\\site-packages\\fpdf\\ttfonts.py:459\u001b[0m, in \u001b[0;36mTTFontFile.makeSubset\u001b[1;34m(self, file, subset)\u001b[0m\n\u001b[0;32m    457\u001b[0m \u001b[38;5;28;01mdef\u001b[39;00m \u001b[38;5;21mmakeSubset\u001b[39m(\u001b[38;5;28mself\u001b[39m, file, subset):\n\u001b[0;32m    458\u001b[0m     \u001b[38;5;28mself\u001b[39m\u001b[38;5;241m.\u001b[39mfilename \u001b[38;5;241m=\u001b[39m file\n\u001b[1;32m--> 459\u001b[0m     \u001b[38;5;28mself\u001b[39m\u001b[38;5;241m.\u001b[39mfh \u001b[38;5;241m=\u001b[39m \u001b[38;5;28;43mopen\u001b[39;49m\u001b[43m(\u001b[49m\u001b[43mfile\u001b[49m\u001b[43m \u001b[49m\u001b[43m,\u001b[49m\u001b[38;5;124;43m'\u001b[39;49m\u001b[38;5;124;43mrb\u001b[39;49m\u001b[38;5;124;43m'\u001b[39;49m\u001b[43m)\u001b[49m\n\u001b[0;32m    460\u001b[0m     \u001b[38;5;28mself\u001b[39m\u001b[38;5;241m.\u001b[39m_pos \u001b[38;5;241m=\u001b[39m \u001b[38;5;241m0\u001b[39m\n\u001b[0;32m    461\u001b[0m     \u001b[38;5;28mself\u001b[39m\u001b[38;5;241m.\u001b[39mcharWidths \u001b[38;5;241m=\u001b[39m []\n",
      "\u001b[1;31mFileNotFoundError\u001b[0m: [Errno 2] No such file or directory: 'fonts/KAIU.TTF'"
     ]
    }
   ],
   "source": [
    "for entry in game_log:\n",
    "    if entry[\"type\"] == \"system\":\n",
    "        pdf.set_text_color(100, 100, 100)\n",
    "        pdf.set_font(\"kaiu\", size=11)\n",
    "        pdf.cell(0, 10, f\"[系統] {entry['text']}\", ln=True)\n",
    "    elif entry[\"type\"] == \"player\":\n",
    "        pdf.set_text_color(0, 0, 0)\n",
    "        pdf.set_font(\"kaiu\", size=12)\n",
    "\n",
    "        pdf.cell(0, 10, f\"[{entry['name']}] {entry['text']}\", ln=True)\n",
    "    elif entry[\"type\"] == \"god\":\n",
    "        pdf.set_text_color(200, 0, 0)\n",
    "        pdf.set_font(\"kaiu\", \"\", 11)\n",
    "        pdf.cell(0, 10, f\"[上帝視角] {entry['text']}\", ln=True)\n",
    "\n",
    "pdf.output(\"game_log.pdf\")"
   ]
  },
  {
   "cell_type": "code",
   "execution_count": null,
   "id": "7b364bd9",
   "metadata": {},
   "outputs": [],
   "source": []
  }
 ],
 "metadata": {
  "kernelspec": {
   "display_name": "Python 3",
   "language": "python",
   "name": "python3"
  },
  "language_info": {
   "codemirror_mode": {
    "name": "ipython",
    "version": 3
   },
   "file_extension": ".py",
   "mimetype": "text/x-python",
   "name": "python",
   "nbconvert_exporter": "python",
   "pygments_lexer": "ipython3",
   "version": "3.10.13"
  }
 },
 "nbformat": 4,
 "nbformat_minor": 5
}
